{
  "nbformat": 4,
  "nbformat_minor": 0,
  "metadata": {
    "colab": {
      "provenance": []
    },
    "kernelspec": {
      "name": "python3",
      "display_name": "Python 3"
    },
    "language_info": {
      "name": "python"
    }
  },
  "cells": [
    {
      "cell_type": "markdown",
      "source": [
        "**1. Key Statistical Definitions**\n",
        "\n",
        "Problem\n",
        "\n",
        "Write short definitions (2-3 lines each) for the following:\n",
        "\n",
        "a) Population and Sample\n",
        "\n",
        "b) Descriptive Statistics and Inferential Statistics\n",
        "\n",
        "c) Parameter and Statistic\n",
        "\n",
        "d) Qualitative and Quantitative Data\n"
      ],
      "metadata": {
        "id": "GY-CPSHBRujI"
      }
    },
    {
      "cell_type": "markdown",
      "source": [
        "**a) Population and Sample**\n",
        "\n",
        "**Population** The complete set of individuals, items, or data that possess some common characteristic.\n",
        "\n",
        "Example : All 1,000 students in a school.\n",
        "\n",
        "**Sample** A subset of the population selected for analysis to make inferences about the population.\n",
        "\n",
        "Example : 100 students selected from the school.\n",
        "\n",
        "**b) Descriptive Statistics and Inferential Statistics**\n",
        "\n",
        "**Descriptive Statistics :** Methods for organizing, displaying, and describing data using tables and graphs.\n",
        "\n",
        "Example : Average age of students in your class is 15 years.\n",
        "\n",
        "**Inferential Statistics :** Techniques that use sample data to draw conclusions about a population.\n",
        "\n",
        "Example : Using sample data to estimate the average age of all school students\n",
        "\n",
        "**c) Parameter and Statistic**\n",
        "\n",
        "**Parameter** A number that describes a whole population.\n",
        "\n",
        "Example : Average height of all students is 160 cm\n",
        "\n",
        "**Statistic** A number that describes a sample from the population.\n",
        "\n",
        "Example : Average height from a sample of 100 students is 158 cm.\n",
        "\n",
        "**d) Qualitative and Quantitative Data**\n",
        "\n",
        "**Qualitative Data** Data that can be categorized based labels also called categorical data.\n",
        "\n",
        "Example : Hair color, gender, brand of car.\n",
        "\n",
        "**Quantitative Data** Data that can be measured and expressed numerically.\n",
        "\n",
        "Example : Height, weight, income, test scores."
      ],
      "metadata": {
        "id": "4n8xZ31YS5MB"
      }
    },
    {
      "cell_type": "markdown",
      "source": [
        "**2. Measures of Central Tendency - Definitions**\n",
        "\n",
        "Objective: Learn basic concepts of data centering.\n",
        "\n",
        "Problem : Define the following terms with one example each:\n",
        "\n",
        " a) Mean\n",
        "\n",
        " b) Median\n",
        "\n",
        " c) Mode\n"
      ],
      "metadata": {
        "id": "_HXqiMz-O6mE"
      }
    },
    {
      "cell_type": "markdown",
      "source": [
        "**a) Mean :** The mean is the sum of all observations divided by the number of observations.\n",
        "\n",
        "Example:\n",
        "Numbers: 10, 20, 30\n",
        "Mean = (10 + 20 + 30) / 3 = 20\n",
        "\n",
        "**b) Median :** The median is the value that divides a dataset into two equal halves when arranged in ascending or descending order.\n",
        "If n is odd then median is middle value\n",
        "If n is even median is average of the two middle values.\n",
        "\n",
        "Example :\n",
        "\n",
        "Numbers: 10, 20, 30\n",
        "→ Sorted: 10, 20, 30 → Median = 20\n",
        "\n",
        "Numbers: 10, 20, 30, 40\n",
        "→ Median = (20 + 30)/2 = 25\n",
        "\n",
        "**c) Mode :** The mode is the value(s) that occur with the highest frequency in a dataset.\n",
        "\n",
        "Example :\n",
        "\n",
        "Numbers: 10, 20, 20, 30\n",
        "\n",
        "Mode = 20 (occurs twice)"
      ],
      "metadata": {
        "id": "3u09cslPyZRE"
      }
    },
    {
      "cell_type": "code",
      "source": [
        "# Code\n",
        "\n",
        "# Importing required libraries\n",
        "import statistics as stats\n",
        "\n",
        "# Sample dataset\n",
        "data = [10, 20, 20, 30, 40]\n",
        "\n",
        "# 1. Calculate Mean\n",
        "mean_value = stats.mean(data)\n",
        "print(\"Mean:\", mean_value)\n",
        "\n",
        "# 2. Calculate Median\n",
        "median_value = stats.median(data)\n",
        "print(\"Median:\", median_value)\n",
        "\n",
        "# 3. Calculate Mode\n",
        "mode_value = stats.mode(data)\n",
        "print(\"Mode:\", mode_value)\n"
      ],
      "metadata": {
        "colab": {
          "base_uri": "https://localhost:8080/"
        },
        "id": "p4hjMIVx0Ag6",
        "outputId": "2fca5098-a645-48d5-f42d-f86fc40119e6"
      },
      "execution_count": null,
      "outputs": [
        {
          "output_type": "stream",
          "name": "stdout",
          "text": [
            "Mean: 24\n",
            "Median: 20\n",
            "Mode: 20\n"
          ]
        }
      ]
    },
    {
      "cell_type": "markdown",
      "source": [
        "**3. Manual Calculation of Mean, Median, and Mode**\n",
        "\n",
        "Objective: Apply manual formulas to real data.\n",
        "Problem:\n",
        "\n",
        "Given the dataset:\n",
        "\n",
        "12, 18, 14, 16, 18, 20, 18, 15, 12, 18, 14, 16, 18, 20, 18, 15\n",
        "\n",
        "Calculate:\n",
        "\n",
        "a) Mean\n",
        "\n",
        "b) Median\n",
        "\n",
        "c) Mode\n"
      ],
      "metadata": {
        "id": "on16BlBK0bMy"
      }
    },
    {
      "cell_type": "code",
      "source": [
        "# code\n",
        "\n",
        "import statistics as stats\n",
        "\n",
        "data = [12, 18, 14, 16, 18, 20, 18, 15, 12, 18, 14, 16, 18, 20, 18, 15]\n",
        "\n",
        "mean_val = stats.mean(data)\n",
        "median_val = stats.median(data)\n",
        "mode_val = stats.mode(data)\n",
        "\n",
        "print(\"Mean:\", mean_val)\n",
        "print(\"Median:\", median_val)\n",
        "print(\"Mode:\", mode_val)\n"
      ],
      "metadata": {
        "colab": {
          "base_uri": "https://localhost:8080/"
        },
        "id": "v_-3P7py0KXv",
        "outputId": "c299809b-bdcc-4b48-ce3e-ac3d7502d37e"
      },
      "execution_count": null,
      "outputs": [
        {
          "output_type": "stream",
          "name": "stdout",
          "text": [
            "Mean: 16.375\n",
            "Median: 17.0\n",
            "Mode: 18\n"
          ]
        }
      ]
    },
    {
      "cell_type": "markdown",
      "source": [
        "**Step by step calculations :**\n",
        "\n",
        "**a) Mean (Average)**\n",
        "\n",
        "Formula:\n",
        "Mean = (Sum of all values) / (Total number of values)\n",
        "\n",
        "Step 1: Add all values\n",
        "12 + 18 + 14 + 16 + 18 + 20 + 18 + 15 + 12 + 18 + 14 + 16 + 18 + 20 + 18 + 15 = 262\n",
        "\n",
        "Step 2: Count the number of values\n",
        "There are 16 values.\n",
        "\n",
        "Mean = 262/​16 = 16.375\n",
        "\n",
        "**b) Median (Middle Value)**\n",
        "\n",
        "Step 1: Sort the data\n",
        "Sorted data:\n",
        "12, 12, 14, 14, 15, 15, 16, 16, 18, 18, 18, 18, 18, 18, 20, 20\n",
        "\n",
        "Step 2: Find the middle values\n",
        "Since there are 16 numbers (even), median = average of the 8th and 9th values.\n",
        "\n",
        "→ 8th value = 16\n",
        "\n",
        "→ 9th value = 18\n",
        "\n",
        "Median = (16+18)/2 = 17\n",
        "\n",
        "**c) Mode (Most Frequent Value)**\n",
        "\n",
        "Count frequency:\n",
        "\n",
        "12 → 2 times\n",
        "\n",
        "14 → 2 times\n",
        "\n",
        "15 → 2 times\n",
        "\n",
        "16 → 2 times\n",
        "\n",
        "18 → 6 times\n",
        "\n",
        "20 → 2 times\n",
        "\n",
        "Mode = 18 ( appears 6 times )"
      ],
      "metadata": {
        "id": "dcibI-L32xPC"
      }
    },
    {
      "cell_type": "markdown",
      "source": [
        "**4. Levels of Measurement**\n",
        "\n",
        "Objective: Understand classification of data types.\n",
        "\n",
        "Problem:\n",
        "Define and give one example for each level of measurement:\n",
        "\n",
        "a) Nominal\n",
        "\n",
        "b) Ordinal\n",
        "\n",
        "c) Interval\n",
        "\n",
        "d) Ratio\n"
      ],
      "metadata": {
        "id": "57Gne1b553Uj"
      }
    },
    {
      "cell_type": "markdown",
      "source": [
        "**a) Nominal :** Categories or names with no order or ranking.\n",
        "\n",
        "Example : Eye color (Brown, Blue, Green) or Gender (Male, Female)\n",
        "\n",
        "**b) Ordinal :** Categories that are ranked or ordered, but the difference between ranks isn't equal.\n",
        "\n",
        "Example : Movie Ratings (Poor, Average, Good, Excellent), Class ranks (1st, 2nd, 3rd)\n",
        "\n",
        "**c) Interval :** Data with equal intervals between values, but no absolute zero point, so ratios are meaningless.\n",
        "\n",
        "Example : Temperature in Celsius the difference between 50°C and 60°C is meaningful\n",
        "\n",
        "**d) Ratio :** Numerical data with equal intervals and a meaningful zero, allowing ratios, comparisons, and all arithmetic operations.\n",
        "\n",
        "Example : 0 means none, and 40 is twice as much as 20"
      ],
      "metadata": {
        "id": "iLYdDdLz6G8S"
      }
    },
    {
      "cell_type": "markdown",
      "source": [
        "**5.Variance and Standard Deviation - Theory**\n",
        "\n",
        "Objective: Understand spread/variability in data.\n",
        "\n",
        "Problem:\n",
        "\n",
        "a) Define Variance and Standard Deviation.\n",
        "\n",
        "b) Explain why Standard Deviation is more interpretable than Variance.\n",
        "\n",
        "\n"
      ],
      "metadata": {
        "id": "zFt1X6j_D663"
      }
    },
    {
      "cell_type": "markdown",
      "source": [
        "**a) Define Variance and Standard Deviation.**\n",
        "\n",
        "**Variance :** Variance is the average of the squared differences between each data point and the mean. It measures the degree of spread in a dataset.\n",
        "\n",
        "**Standard Deviation :** Standard deviation is the square root of the variance.\n",
        "\n",
        "**b) Explain why Standard Deviation is more interpretable than Variance.**\n",
        "\n",
        "Variance is measured in squared units making it hard to directly relate to the data. Where as standard deviation is in the same units as the original data, making it easier to understand and interpret in context.\n",
        "\n",
        "For example, if the average height is 170 cm and standard deviation is 10 cm, it clearly tells you that most values lie within about 10 cm above or below 170."
      ],
      "metadata": {
        "id": "vYI1fZTgEFzq"
      }
    },
    {
      "cell_type": "markdown",
      "source": [
        "Q6. Manual Calculation - Variance and Standard Deviation\n",
        "\n",
        "Objective: Practice computing data spread.\n",
        "\n",
        "Problem:\n",
        "\n",
        " Given the data:\n",
        " 8, 10, 12, 14, 16, 10, 12, 14, 16\n",
        "\n",
        "Calculate:\n",
        "\n",
        "a) Sample Variance\n",
        "\n",
        "\n",
        "b) Sample Standard Deviation\n",
        "\n",
        "\n"
      ],
      "metadata": {
        "id": "C4jpf34qEgAD"
      }
    },
    {
      "cell_type": "markdown",
      "source": [
        "**Given data:**\n",
        "$8, 10, 12, 14, 16, 10, 12, 14, 16$\n",
        "\n",
        "---\n",
        "\n",
        "## **Find the mean ($\\bar{x}$)**\n",
        "\n",
        "$$\n",
        "\\bar{x} = \\frac{\\text{Sum of all values}}{n}  \n",
        "= \\frac{8+10+12+14+16+10+12+14+16}{9}  \n",
        "= \\frac{112}{9} \\approx 12.44\n",
        "$$\n",
        "\n",
        "---\n",
        "\n",
        "## **Compute each squared deviation**\n",
        "\n",
        "| x  | $x - \\bar{x}$      | $(x - \\bar{x})^2$ |\n",
        "| -- | ------------------ | ----------------- |\n",
        "| 8  | 8 - 12.44 = -4.44  | 19.71             |\n",
        "| 10 | 10 - 12.44 = -2.44 | 5.95              |\n",
        "| 12 | 12 - 12.44 = -0.44 | 0.19              |\n",
        "| 14 | 14 - 12.44 =  1.56 | 2.43              |\n",
        "| 16 | 16 - 12.44 =  3.56 | 12.67             |\n",
        "| 10 | 10 - 12.44 = -2.44 | 5.95              |\n",
        "| 12 | 12 - 12.44 = -0.44 | 0.19              |\n",
        "| 14 | 14 - 12.44 =  1.56 | 2.43              |\n",
        "| 16 | 16 - 12.44 =  3.56 | 12.67             |\n",
        "\n",
        "\n",
        "---\n",
        "\n",
        "## **Sum of squared deviations**\n",
        "\n",
        "$$\n",
        "19.71 + 5.95 + 0.19 + 2.43 + 12.67 + 5.95 + 0.19 + 2.43 + 12.67 = 62.19\n",
        "$$\n",
        "\n",
        "---\n",
        "\n",
        "## **Sample Variance ($s^2$)**\n",
        "\n",
        "$$\n",
        "s^2 = \\frac{\\text{Sum of squared deviations}}{n-1}  \n",
        "= \\frac{62.19}{9 - 1}  \n",
        "= \\frac{62.19}{8}  \n",
        "= 7.77\n",
        "$$\n",
        "\n",
        "---\n",
        "\n",
        "## **Sample Standard Deviation ($s$)**\n",
        "\n",
        "$$\n",
        "s = \\sqrt{s^2} = \\sqrt{7.77} \\approx 2.79\n",
        "$$\n",
        "\n",
        "---\n",
        "\n",
        "##**Final Answers:**\n",
        "\n",
        "|                               | Value    |\n",
        "| ----------------------------- | -------- |\n",
        "| **Sample Variance**           | **7.77** |\n",
        "| **Sample Standard Deviation** | **2.79** |\n"
      ],
      "metadata": {
        "id": "NOlw-15HkUJ_"
      }
    },
    {
      "cell_type": "markdown",
      "source": [
        "Q7. Range and Interquartile Range (IQR)\n",
        "Given the dataset: 22, 29, 25, 31, 35, 40, 45, 48, 50\n",
        "\n",
        "a) Arrange data in ascending order\n",
        "\n",
        "b) Calculate the Range\n",
        "\n",
        "c) Find Q1, Q3, and IQR"
      ],
      "metadata": {
        "id": "GBhMPtm-HYrv"
      }
    },
    {
      "cell_type": "code",
      "source": [
        "# Arrange data in ascending order.\n",
        "asc_data = sorted([22, 25, 29, 31, 35, 40, 45, 48, 50])\n",
        "print(asc_data)\n"
      ],
      "metadata": {
        "colab": {
          "base_uri": "https://localhost:8080/"
        },
        "id": "m62FLlgJHpjQ",
        "outputId": "4d141db6-8976-4a95-fae3-fc53718421a2"
      },
      "execution_count": 2,
      "outputs": [
        {
          "output_type": "stream",
          "name": "stdout",
          "text": [
            "[22, 25, 29, 31, 35, 40, 45, 48, 50]\n"
          ]
        }
      ]
    },
    {
      "cell_type": "code",
      "source": [
        "# calculate the range\n",
        "data_range = max(asc_data) - min(asc_data)\n",
        "print(data_range)"
      ],
      "metadata": {
        "colab": {
          "base_uri": "https://localhost:8080/"
        },
        "id": "6JluinMlIIYl",
        "outputId": "dd853426-ecdb-41c5-ca1a-7d87d84baa0d"
      },
      "execution_count": 3,
      "outputs": [
        {
          "output_type": "stream",
          "name": "stdout",
          "text": [
            "28\n"
          ]
        }
      ]
    },
    {
      "cell_type": "code",
      "source": [
        "#  Find Q1, Q3, and IQR\n",
        "\n",
        "# import library\n",
        "\n",
        "import numpy as np\n",
        "\n",
        "Q1 = np.percentile(asc_data, 25)\n",
        "Q3 = np.percentile(asc_data, 75)\n",
        "IQR = Q3 - Q1\n",
        "\n",
        "print(\"Q1 (25th percentile):\", Q1)\n",
        "print(\"Q3 (75th percentile):\", Q3)\n",
        "print(\"IQR:\", IQR)"
      ],
      "metadata": {
        "colab": {
          "base_uri": "https://localhost:8080/"
        },
        "id": "ckgOJprQIiG1",
        "outputId": "d1dfe2cc-2576-48a1-d7e8-e931ea7625ed"
      },
      "execution_count": 5,
      "outputs": [
        {
          "output_type": "stream",
          "name": "stdout",
          "text": [
            "Q1 (25th percentile): 29.0\n",
            "Q3 (75th percentile): 45.0\n",
            "IQR: 16.0\n"
          ]
        }
      ]
    },
    {
      "cell_type": "markdown",
      "source": [
        "Q8. Five-number Summary and Boxplot Concept\n",
        "\n",
        "Objective: Summarize distribution of data.\n",
        "\n",
        "Problem:\n",
        "Define the Five-number Summary and explain each component:\n",
        "\n",
        "Minimum\n",
        "\n",
        "Q1 (First Quartile)\n",
        "\n",
        "Median\n",
        "\n",
        "Q3 (Third Quartile)\n",
        "\n",
        "Maximum\n",
        "\n",
        "Describe how boxplots help in detecting outliers.\n"
      ],
      "metadata": {
        "id": "ApU6afzwO5a2"
      }
    },
    {
      "cell_type": "markdown",
      "source": [
        "**Minimum** : The smallest value in the dataset.\n",
        "\n",
        "Represents the lower bound of the data range.\n",
        "\n",
        "**Q1 (First Quartile)** : The 25th percentile of the data.\n",
        "\n",
        "25% of the data values are less than or equal to Q1.\n",
        "\n",
        "**Median** : The middle value of the dataset (50th percentile).\n",
        "\n",
        "Splits the data into two equal halves.\n",
        "\n",
        "**Q3 (Third Quartile)** : The 75th percentile of the data.\n",
        "\n",
        "75% of the data values are less than or equal to Q3.\n",
        "\n",
        "**Maximum** : The largest value in the dataset.\n",
        "\n",
        "Represents the upper bound"
      ],
      "metadata": {
        "id": "dCm2y7CnPumg"
      }
    },
    {
      "cell_type": "code",
      "source": [
        "# Describe how boxplots help in detecting outliers.\n",
        "\n",
        "import matplotlib.pyplot as plt\n",
        "import seaborn as sns\n",
        "import numpy as np\n",
        "\n",
        "# Sample data\n",
        "data = [5, 22, 25, 29, 31, 35, 40, 45, 48, 50, 85, 100, 120]\n",
        "\n",
        "# Compute statistics\n",
        "sorted_data = sorted(data)\n",
        "Q1 = np.percentile(sorted_data, 25)\n",
        "Median = np.percentile(sorted_data, 50)\n",
        "Q3 = np.percentile(sorted_data, 75)\n",
        "IQR = Q3 - Q1\n",
        "Minimum = min([x for x in data if x >= Q1 - 1.5 * IQR])\n",
        "Maximum = max([x for x in data if x <= Q3 + 1.5 * IQR])\n",
        "\n",
        "# Identify outliers\n",
        "outliers = [x for x in data if x < Q1 - 1.5 * IQR or x > Q3 + 1.5 * IQR]\n",
        "\n",
        "# Plot\n",
        "plt.figure(figsize=(12,2))\n",
        "sns.boxplot(data=data, orient='h', color='skyblue', width=0.4, fliersize=6)\n",
        "\n",
        "# Add annotations for five-number summary\n",
        "plt.text(Minimum, 0.1, f'Min\\n{Minimum}', ha='center', va='bottom', fontsize=10, color='black')\n",
        "plt.text(Q1, 0.1, f'Q1\\n{Q1}', ha='center', va='top', fontsize=6, color='black')\n",
        "plt.text(Median, 0.1, f'Median\\n{Median}', ha='center', va='bottom', fontsize=10, color='black')\n",
        "plt.text(Q3, 0.1, f'Q3\\n{Q3}', ha='center', va='top', fontsize=6, color='black')\n",
        "plt.text(Maximum, 0.1, f'Max\\n{Maximum}', ha='center', va='bottom', fontsize=10, color='black')\n",
        "\n",
        "# Annotate outliers\n",
        "for outlier in outliers:\n",
        "    plt.plot(outlier, 0, 'ro')  # red dot\n",
        "    plt.text(outlier, -0.2, f'Outlier\\n{outlier}', ha='center', va='top', fontsize=8, color='red')\n",
        "\n",
        "# Styling\n",
        "plt.title(\"Boxplot with Five-number Summary and Outliers\", fontsize=14)\n",
        "plt.xlabel(\"Value\")\n",
        "plt.yticks([])\n",
        "plt.grid(axis='x', linestyle='--', alpha=0.5)\n",
        "\n",
        "plt.tight_layout()\n",
        "plt.show()\n"
      ],
      "metadata": {
        "colab": {
          "base_uri": "https://localhost:8080/",
          "height": 207
        },
        "id": "ELL5CsjwRUx9",
        "outputId": "f6590a7f-89b0-45af-d0ff-2daaa29d5d1f"
      },
      "execution_count": 23,
      "outputs": [
        {
          "output_type": "display_data",
          "data": {
            "text/plain": [
              "<Figure size 1200x200 with 1 Axes>"
            ],
            "image/png": "[encoded data removed]"
          },
          "metadata": {}
        }
      ]
    },
    {
      "cell_type": "markdown",
      "source": [
        "**Q9. Confidence Interval for the Mean**\n",
        "\n",
        "Objective: Estimate population means using sample data.\n",
        "\n",
        "Problem:\n",
        " A sample of 36 students has an average height of 162 cm with a standard deviation of 6 cm.\n",
        " Calculate the 95% Confidence Interval for the population mean.\n",
        " (Hint: Use Z = 1.96 for 95% confidence)\n"
      ],
      "metadata": {
        "id": "SLT-DW8KV7J2"
      }
    },
    {
      "cell_type": "code",
      "source": [
        "\n",
        "# 95% CONFIDENCE INTERVAL FOR THE POPULATION MEAN\n",
        "\n",
        "# INPUTS\n",
        "n        = 36      # sample size\n",
        "x_bar    = 162.0   # sample mean (cm)\n",
        "s        = 6.0     # sample standard deviation (cm)\n",
        "z_alpha2 = 1.96    # Z‑score for 95 % confidence (two‑tailed)\n",
        "\n",
        "print(\"Step 1 – Inputs:\")\n",
        "print(f\"  n        = {n}\")\n",
        "print(f\"  x̄ (mean) = {x_bar} cm\")\n",
        "print(f\"  s        = {s} cm\")\n",
        "print(f\"  Z        = {z_alpha2}\\n\")\n",
        "\n",
        "# STANDARD ERROR  (SE = s / √n)  ────────────────────────────\n",
        "import math\n",
        "SE = s / math.sqrt(n)\n",
        "print(\"Step 2 – Standard Error (SE):\")\n",
        "print(f\"  Formula : SE = s / √n\")\n",
        "print(f\"  Computation : SE = {s} / √{n} = {SE:.4f} cm\\n\")\n",
        "\n",
        "# MARGIN OF ERROR  (ME = Z × SE)  ──────────────────────────\n",
        "ME = z_alpha2 * SE\n",
        "print(\"Step 3 – Margin of Error (ME):\")\n",
        "print(f\"  Formula : ME = Z × SE\")\n",
        "print(f\"  Computation : ME = {z_alpha2} × {SE:.4f} = {ME:.4f} cm\\n\")\n",
        "\n",
        "# CONFIDENCE INTERVAL  (x̄ ± ME)  ───────────────────────────\n",
        "lower_bound = x_bar - ME\n",
        "upper_bound = x_bar + ME\n",
        "print(\"Step 4 – 95% Confidence Interval for the Mean:\")\n",
        "print(f\"  Formula : CI = x̄ ± ME\")\n",
        "print(f\"  Computation : ({x_bar} − {ME:.4f}, {x_bar} + {ME:.4f})\")\n",
        "print(f\"  95% CI  = ({lower_bound:.2f} cm, {upper_bound:.2f} cm)\")\n"
      ],
      "metadata": {
        "colab": {
          "base_uri": "https://localhost:8080/"
        },
        "id": "tfaAEIQBewtG",
        "outputId": "eac736a4-4536-4ab7-ea40-0027e67b84db"
      },
      "execution_count": 26,
      "outputs": [
        {
          "output_type": "stream",
          "name": "stdout",
          "text": [
            "Step 1 – Inputs:\n",
            "  n        = 36\n",
            "  x̄ (mean) = 162.0 cm\n",
            "  s        = 6.0 cm\n",
            "  Z        = 1.96\n",
            "\n",
            "Step 2 – Standard Error (SE):\n",
            "  Formula : SE = s / √n\n",
            "  Computation : SE = 6.0 / √36 = 1.0000 cm\n",
            "\n",
            "Step 3 – Margin of Error (ME):\n",
            "  Formula : ME = Z × SE\n",
            "  Computation : ME = 1.96 × 1.0000 = 1.9600 cm\n",
            "\n",
            "Step 4 – 95% Confidence Interval for the Mean:\n",
            "  Formula : CI = x̄ ± ME\n",
            "  Computation : (162.0 − 1.9600, 162.0 + 1.9600)\n",
            "  95% CI  = (160.04 cm, 163.96 cm)\n"
          ]
        }
      ]
    },
    {
      "cell_type": "markdown",
      "source": [
        "Q10. Hypothesis Testing - One Sample Z-Test\n",
        "\n",
        "Objective: Make decisions using statistical testing.\n",
        "\n",
        "Problem:\n",
        " The average salary in a city is ₹30,000. A random sample of 49 employees has an average salary of ₹31,000 with a standard deviation of ₹4,900.\n",
        " Test the hypothesis at the 5% level of significance to determine if the average salary has increased.\n",
        "\n",
        "a) State the null and alternative hypothesis:\n",
        "\n",
        "\n",
        "b) Calculate the Z-score:\n",
        "\n",
        "\n",
        "c) Conclude the result using critical value (±1.96)\n"
      ],
      "metadata": {
        "id": "7v7LSfZyfTIA"
      }
    },
    {
      "cell_type": "code",
      "source": [
        "\n",
        "# ONE‑SAMPLE Z‑TEST FOR MEAN (5 % SIGNIFICANCE)\n",
        "# Does the average salary exceed ₹30,000?\n",
        "\n",
        "# (1) INPUTS\n",
        "mu_0      = 30000      # population mean under H0 (₹)\n",
        "x_bar     = 31000      # sample mean (₹)\n",
        "s         = 4900       # sample standard deviation (₹)\n",
        "n         = 49         # sample size\n",
        "alpha     = 0.05       # significance level (5 %)\n",
        "z_crit    = 1.96       # critical Z for ±1.96 (two‑tailed at 5 %)\n",
        "\n",
        "print(\"Step 1 - Inputs:\")\n",
        "print(f\"  Population mean (H0) μ₀ = {mu_0:,.0f} ₹\")\n",
        "print(f\"  Sample mean x̄        = {x_bar:,.0f} ₹\")\n",
        "print(f\"  Sample std‑dev s      = {s:,.0f} ₹\")\n",
        "print(f\"  Sample size n         = {n}\")\n",
        "print(f\"  Significance α        = {alpha}\")\n",
        "print(f\"  Critical Z (±)        = ±{z_crit}\\n\")\n",
        "\n",
        "# (2) STANDARD ERROR  (SE = s / √n)  ────────────────────────────\n",
        "import math\n",
        "SE = s / math.sqrt(n)\n",
        "print(\"Step 2 – Standard Error (SE):\")\n",
        "print(f\"  Formula : SE = s / √n\")\n",
        "print(f\"  Computation : SE = {s:,.0f} / √{n} = {SE:,.2f} ₹\\n\")\n",
        "\n",
        "# (3) TEST STATISTIC  (Z = (x̄ − μ₀) / SE)  ─────────────────────\n",
        "Z = (x_bar - mu_0) / SE\n",
        "print(\"Step 3 – Z‑score:\")\n",
        "print(f\"  Formula : Z = (x̄ − μ₀) / SE\")\n",
        "print(f\"  Computation : Z = ({x_bar:,.0f} − {mu_0:,.0f}) / {SE:,.2f} = {Z:.2f}\\n\")\n",
        "\n",
        "# (4) DECISION RULE & CONCLUSION  ───────────────────────────────\n",
        "print(\"Step 4 – Decision at α = 0.05:\")\n",
        "if abs(Z) > z_crit:\n",
        "    print(f\"  |Z| = {abs(Z):.2f} > {z_crit} ⇒ Reject H₀\")\n",
        "    print(\"  Conclusion: Evidence suggests the average salary **has increased**.\")\n",
        "else:\n",
        "    print(f\"  |Z| = {abs(Z):.2f} ≤ {z_crit} ⇒ Fail to reject H₀\")\n",
        "    print(\"  Conclusion: Insufficient evidence to say the average salary has increased.\")\n"
      ],
      "metadata": {
        "colab": {
          "base_uri": "https://localhost:8080/"
        },
        "id": "RX4UEWqLgBhK",
        "outputId": "63211efc-f183-4b6d-bff5-8e291e87fdba"
      },
      "execution_count": 28,
      "outputs": [
        {
          "output_type": "stream",
          "name": "stdout",
          "text": [
            "Step 1 - Inputs:\n",
            "  Population mean (H0) μ₀ = 30,000 ₹\n",
            "  Sample mean x̄        = 31,000 ₹\n",
            "  Sample std‑dev s      = 4,900 ₹\n",
            "  Sample size n         = 49\n",
            "  Significance α        = 0.05\n",
            "  Critical Z (±)        = ±1.96\n",
            "\n",
            "Step 2 – Standard Error (SE):\n",
            "  Formula : SE = s / √n\n",
            "  Computation : SE = 4,900 / √49 = 700.00 ₹\n",
            "\n",
            "Step 3 – Z‑score:\n",
            "  Formula : Z = (x̄ − μ₀) / SE\n",
            "  Computation : Z = (31,000 − 30,000) / 700.00 = 1.43\n",
            "\n",
            "Step 4 – Decision at α = 0.05:\n",
            "  |Z| = 1.43 ≤ 1.96 ⇒ Fail to reject H₀\n",
            "  Conclusion: Insufficient evidence to say the average salary has increased.\n"
          ]
        }
      ]
    },
    {
      "cell_type": "code",
      "source": [],
      "metadata": {
        "id": "sf1In9runpdA"
      },
      "execution_count": null,
      "outputs": []
    }
  ]
}